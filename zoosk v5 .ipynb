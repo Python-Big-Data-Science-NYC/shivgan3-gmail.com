{
 "cells": [
  {
   "cell_type": "code",
   "execution_count": 46,
   "metadata": {},
   "outputs": [],
   "source": [
    "from selenium import webdriver\n",
    "from selenium.webdriver.chrome.options import Options\n",
    "from random_useragent.random_useragent import Randomize\n",
    "from bs4 import BeautifulSoup\n",
    "import random\n",
    "import csv\n",
    "import pandas as pd\n",
    "from pynput.mouse import Button, Controller\n",
    "import keyboard\n",
    "\n",
    "import time\n",
    "from pyautogui import press, typewrite, hotkey"
   ]
  },
  {
   "cell_type": "code",
   "execution_count": 47,
   "metadata": {},
   "outputs": [],
   "source": [
    "from selenium import webdriver\n",
    "driver = webdriver.Firefox()\n",
    "driver.get(\"https://www.zoosk.com/\")\n",
    "\n",
    "\n",
    "\n"
   ]
  },
  {
   "cell_type": "code",
   "execution_count": 48,
   "metadata": {},
   "outputs": [],
   "source": [
    "element = driver.find_element_by_xpath('//*[@id=\"login-form-trigger\"]')\n",
    "element.click()"
   ]
  },
  {
   "cell_type": "code",
   "execution_count": 49,
   "metadata": {},
   "outputs": [],
   "source": [
    "time.sleep(1)\n",
    "\n",
    "element = driver.find_element_by_xpath('//*[@id=\"login-email\"]')\n",
    "element.click()\n",
    "time.sleep(1)\n",
    "\n",
    "typewrite(\"shivgan3@gmail.com\" )   \n",
    "time.sleep(1)\n",
    "element = driver.find_element_by_xpath('//*[@id=\"login-password\"]')\n",
    "element.click()\n",
    "time.sleep(1)\n",
    "typewrite(\"xxx\" )   \n",
    "\n",
    "element = driver.find_element_by_xpath('/html/body/div[4]/div/div/div/div/div[3]/form/button')\n",
    "element.click()"
   ]
  },
  {
   "cell_type": "code",
   "execution_count": 51,
   "metadata": {},
   "outputs": [],
   "source": [
    "time.sleep(2)\n",
    "\n",
    "element = driver.find_element_by_xpath('/html[1]/body[1]/div[1]/div[3]/div[1]/div[1]/div[1]/div[1]/nav[1]/ul[1]/li[1]/span[2]')\n",
    "element.click()\n",
    "time.sleep(1)\n",
    "\n"
   ]
  },
  {
   "cell_type": "code",
   "execution_count": 53,
   "metadata": {},
   "outputs": [],
   "source": [
    "for x in range(1,100):\n",
    "    try:\n",
    "        element = driver.find_element_by_xpath('/html/body/div[1]/div[3]/div/div[2]/div[3]/div[2]/div[2]/ul/li/div[2]/div[1]/div[1]/ul/li[2]/button/span[2]')\n",
    "        element.click()\n",
    "        time.sleep(1)\n",
    "\n",
    "\n",
    "    except:\n",
    "        pass\n",
    "    \n",
    "    time.sleep(1)\n",
    "    \n",
    "    try:\n",
    "        element = driver.find_element_by_xpath('/html[1]/body[1]/div[1]/div[3]/div[1]/div[2]/div[3]/div[2]/div[2]/ul[1]/li[1]/div[2]/div[3]/div[1]/div[4]/div[2]/div[1]/div[2]/div[1]/div[1]/textarea[1]')\n",
    "        element.click()\n",
    "        typewrite(\"Hi, I loved your profile. Very intresting getup, you seem like very artsy\")\n",
    "            \n",
    "        element = driver.find_element_by_xpath('/html/body/div[1]/div[3]/div/div[2]/div[3]/div[2]/div[2]/ul/li/div[2]/div[3]/div/div[4]/div[2]/div/div[2]/div/div/div/span[2]/span[1]')\n",
    "        element.click() \n",
    "    except:\n",
    "        pass\n",
    "    \n",
    "    try:\n",
    "        element = driver.find_element_by_xpath('/html/body/div[1]/div[3]/div/div[2]/div[3]/div[2]/div[2]/ul/li/div[2]/div[3]/div/div[4]/div/div/p')\n",
    "        element.click()\n",
    "        time.sleep(1)\n",
    "\n",
    "        typewrite(\"Hi, I loved your profile. Very intresting getup, you seem like very artsy\")\n",
    "        time.sleep(1)\n",
    "\n",
    "        element = driver.find_element_by_xpath('/html/body/div[1]/div[3]/div/div[2]/div[3]/div[2]/div[2]/ul/li/div[2]/div[3]/div/div[4]/div[2]/div/div[2]/div/div/div/span[2]/span[1]')\n",
    "        element.click() \n",
    "        time.sleep(1)\n",
    "\n",
    "    except:\n",
    "        pass\n",
    "        \n",
    "\n",
    "    element = driver.find_element_by_xpath( '/html[1]/body[1]/div[1]/div[3]/div[1]/div[2]/div[3]/div[2]/header[1]/span[2]/ul[1]/li[2]')\n",
    "    element.click()   \n",
    "    time.sleep(1)\n",
    "\n",
    "\n"
   ]
  },
  {
   "cell_type": "code",
   "execution_count": 26,
   "metadata": {},
   "outputs": [],
   "source": []
  },
  {
   "cell_type": "markdown",
   "metadata": {},
   "source": []
  },
  {
   "cell_type": "markdown",
   "metadata": {},
   "source": [
    "### "
   ]
  },
  {
   "cell_type": "code",
   "execution_count": 168,
   "metadata": {},
   "outputs": [],
   "source": [
    "\n",
    "\n",
    "def getprofilelines():\n",
    "    urlprofiles =[]\n",
    "    for link in soup_level.findAll('a'):\n",
    "        if link.get('href') is not None :\n",
    "            if link.get('href')[:27] == 'viewprofile.aspx?profile_id':\n",
    "    #             print (link.get('href'))\n",
    "                urlprofiles.append(\"https://www.pof.com/\"+link.get('href'))    \n",
    "    myset = set(urlprofiles)\n",
    "    urlprofiles = list(myset)\n",
    "    return urlprofiles"
   ]
  },
  {
   "cell_type": "code",
   "execution_count": 169,
   "metadata": {},
   "outputs": [
    {
     "name": "stdout",
     "output_type": "stream",
     "text": [
      "15\n",
      "--------------------------\n",
      "30\n",
      "30\n",
      "--------------------------\n",
      "45\n",
      "45\n",
      "--------------------------\n",
      "60\n"
     ]
    }
   ],
   "source": [
    "urlprofiles2 =[]\n",
    "\n",
    "urlprofiles2 = urlprofiles2 + getprofilelines()\n",
    "\n",
    "element = driver.find_element_by_xpath('//*[@id=\"basicsearch_pager_2\"]')\n",
    "element.click()\n",
    "\n",
    "print(len(urlprofiles2))\n",
    "print(\"--------------------------\")\n",
    "urlprofiles2 = urlprofiles2 + getprofilelines()\n",
    "\n",
    "print(len(urlprofiles2))\n",
    "\n",
    "element = driver.find_element_by_xpath('//*[@id=\"basicsearch_pager_3\"]')\n",
    "element.click()\n",
    "\n",
    "print(len(urlprofiles2))\n",
    "print(\"--------------------------\")\n",
    "urlprofiles2 = urlprofiles2 + getprofilelines()\n",
    "\n",
    "print(len(urlprofiles2))\n",
    "\n",
    "\n",
    "element = driver.find_element_by_xpath('//*[@id=\"basicsearch_pager_4\"]')\n",
    "element.click()\n",
    "\n",
    "print(len(urlprofiles2))\n",
    "print(\"--------------------------\")\n",
    "urlprofiles2 = urlprofiles2 + getprofilelines()\n",
    "\n",
    "print(len(urlprofiles2))\n",
    "\n"
   ]
  },
  {
   "cell_type": "code",
   "execution_count": null,
   "metadata": {},
   "outputs": [],
   "source": []
  },
  {
   "cell_type": "code",
   "execution_count": 170,
   "metadata": {
    "scrolled": true
   },
   "outputs": [
    {
     "ename": "NoSuchWindowException",
     "evalue": "Message: Browsing context has been discarded\n",
     "output_type": "error",
     "traceback": [
      "\u001b[1;31m---------------------------------------------------------------------------\u001b[0m",
      "\u001b[1;31mNoSuchWindowException\u001b[0m                     Traceback (most recent call last)",
      "\u001b[1;32m<ipython-input-170-c7a7c0eae530>\u001b[0m in \u001b[0;36m<module>\u001b[1;34m()\u001b[0m\n\u001b[0;32m      4\u001b[0m     \u001b[0mdriver\u001b[0m\u001b[1;33m.\u001b[0m\u001b[0mget\u001b[0m\u001b[1;33m(\u001b[0m\u001b[0mevery_urlprofiles\u001b[0m\u001b[1;33m)\u001b[0m\u001b[1;33m\u001b[0m\u001b[0m\n\u001b[0;32m      5\u001b[0m \u001b[1;33m\u001b[0m\u001b[0m\n\u001b[1;32m----> 6\u001b[1;33m     \u001b[0msoup_level2\u001b[0m\u001b[1;33m=\u001b[0m\u001b[0mBeautifulSoup\u001b[0m\u001b[1;33m(\u001b[0m\u001b[0mdriver\u001b[0m\u001b[1;33m.\u001b[0m\u001b[0mpage_source\u001b[0m\u001b[1;33m,\u001b[0m \u001b[1;34m'html.parser'\u001b[0m\u001b[1;33m)\u001b[0m\u001b[1;33m\u001b[0m\u001b[0m\n\u001b[0m\u001b[0;32m      7\u001b[0m     \u001b[0mspan\u001b[0m \u001b[1;33m=\u001b[0m \u001b[0msoup_level2\u001b[0m\u001b[1;33m.\u001b[0m\u001b[0mfind\u001b[0m\u001b[1;33m(\u001b[0m\u001b[1;34m\"span\"\u001b[0m\u001b[1;33m,\u001b[0m \u001b[0mid\u001b[0m\u001b[1;33m=\u001b[0m\u001b[1;34m\"username\"\u001b[0m\u001b[1;33m)\u001b[0m\u001b[1;33m\u001b[0m\u001b[0m\n\u001b[0;32m      8\u001b[0m     \u001b[0mspan\u001b[0m\u001b[1;33m.\u001b[0m\u001b[0mtext\u001b[0m\u001b[1;33m\u001b[0m\u001b[0m\n",
      "\u001b[1;32mD:\\ProgramData\\Anaconda3\\lib\\site-packages\\selenium\\webdriver\\remote\\webdriver.py\u001b[0m in \u001b[0;36mpage_source\u001b[1;34m(self)\u001b[0m\n\u001b[0;32m    677\u001b[0m             \u001b[0mdriver\u001b[0m\u001b[1;33m.\u001b[0m\u001b[0mpage_source\u001b[0m\u001b[1;33m\u001b[0m\u001b[0m\n\u001b[0;32m    678\u001b[0m         \"\"\"\n\u001b[1;32m--> 679\u001b[1;33m         \u001b[1;32mreturn\u001b[0m \u001b[0mself\u001b[0m\u001b[1;33m.\u001b[0m\u001b[0mexecute\u001b[0m\u001b[1;33m(\u001b[0m\u001b[0mCommand\u001b[0m\u001b[1;33m.\u001b[0m\u001b[0mGET_PAGE_SOURCE\u001b[0m\u001b[1;33m)\u001b[0m\u001b[1;33m[\u001b[0m\u001b[1;34m'value'\u001b[0m\u001b[1;33m]\u001b[0m\u001b[1;33m\u001b[0m\u001b[0m\n\u001b[0m\u001b[0;32m    680\u001b[0m \u001b[1;33m\u001b[0m\u001b[0m\n\u001b[0;32m    681\u001b[0m     \u001b[1;32mdef\u001b[0m \u001b[0mclose\u001b[0m\u001b[1;33m(\u001b[0m\u001b[0mself\u001b[0m\u001b[1;33m)\u001b[0m\u001b[1;33m:\u001b[0m\u001b[1;33m\u001b[0m\u001b[0m\n",
      "\u001b[1;32mD:\\ProgramData\\Anaconda3\\lib\\site-packages\\selenium\\webdriver\\remote\\webdriver.py\u001b[0m in \u001b[0;36mexecute\u001b[1;34m(self, driver_command, params)\u001b[0m\n\u001b[0;32m    319\u001b[0m         \u001b[0mresponse\u001b[0m \u001b[1;33m=\u001b[0m \u001b[0mself\u001b[0m\u001b[1;33m.\u001b[0m\u001b[0mcommand_executor\u001b[0m\u001b[1;33m.\u001b[0m\u001b[0mexecute\u001b[0m\u001b[1;33m(\u001b[0m\u001b[0mdriver_command\u001b[0m\u001b[1;33m,\u001b[0m \u001b[0mparams\u001b[0m\u001b[1;33m)\u001b[0m\u001b[1;33m\u001b[0m\u001b[0m\n\u001b[0;32m    320\u001b[0m         \u001b[1;32mif\u001b[0m \u001b[0mresponse\u001b[0m\u001b[1;33m:\u001b[0m\u001b[1;33m\u001b[0m\u001b[0m\n\u001b[1;32m--> 321\u001b[1;33m             \u001b[0mself\u001b[0m\u001b[1;33m.\u001b[0m\u001b[0merror_handler\u001b[0m\u001b[1;33m.\u001b[0m\u001b[0mcheck_response\u001b[0m\u001b[1;33m(\u001b[0m\u001b[0mresponse\u001b[0m\u001b[1;33m)\u001b[0m\u001b[1;33m\u001b[0m\u001b[0m\n\u001b[0m\u001b[0;32m    322\u001b[0m             response['value'] = self._unwrap_value(\n\u001b[0;32m    323\u001b[0m                 response.get('value', None))\n",
      "\u001b[1;32mD:\\ProgramData\\Anaconda3\\lib\\site-packages\\selenium\\webdriver\\remote\\errorhandler.py\u001b[0m in \u001b[0;36mcheck_response\u001b[1;34m(self, response)\u001b[0m\n\u001b[0;32m    240\u001b[0m                 \u001b[0malert_text\u001b[0m \u001b[1;33m=\u001b[0m \u001b[0mvalue\u001b[0m\u001b[1;33m[\u001b[0m\u001b[1;34m'alert'\u001b[0m\u001b[1;33m]\u001b[0m\u001b[1;33m.\u001b[0m\u001b[0mget\u001b[0m\u001b[1;33m(\u001b[0m\u001b[1;34m'text'\u001b[0m\u001b[1;33m)\u001b[0m\u001b[1;33m\u001b[0m\u001b[0m\n\u001b[0;32m    241\u001b[0m             \u001b[1;32mraise\u001b[0m \u001b[0mexception_class\u001b[0m\u001b[1;33m(\u001b[0m\u001b[0mmessage\u001b[0m\u001b[1;33m,\u001b[0m \u001b[0mscreen\u001b[0m\u001b[1;33m,\u001b[0m \u001b[0mstacktrace\u001b[0m\u001b[1;33m,\u001b[0m \u001b[0malert_text\u001b[0m\u001b[1;33m)\u001b[0m\u001b[1;33m\u001b[0m\u001b[0m\n\u001b[1;32m--> 242\u001b[1;33m         \u001b[1;32mraise\u001b[0m \u001b[0mexception_class\u001b[0m\u001b[1;33m(\u001b[0m\u001b[0mmessage\u001b[0m\u001b[1;33m,\u001b[0m \u001b[0mscreen\u001b[0m\u001b[1;33m,\u001b[0m \u001b[0mstacktrace\u001b[0m\u001b[1;33m)\u001b[0m\u001b[1;33m\u001b[0m\u001b[0m\n\u001b[0m\u001b[0;32m    243\u001b[0m \u001b[1;33m\u001b[0m\u001b[0m\n\u001b[0;32m    244\u001b[0m     \u001b[1;32mdef\u001b[0m \u001b[0m_value_or_default\u001b[0m\u001b[1;33m(\u001b[0m\u001b[0mself\u001b[0m\u001b[1;33m,\u001b[0m \u001b[0mobj\u001b[0m\u001b[1;33m,\u001b[0m \u001b[0mkey\u001b[0m\u001b[1;33m,\u001b[0m \u001b[0mdefault\u001b[0m\u001b[1;33m)\u001b[0m\u001b[1;33m:\u001b[0m\u001b[1;33m\u001b[0m\u001b[0m\n",
      "\u001b[1;31mNoSuchWindowException\u001b[0m: Message: Browsing context has been discarded\n"
     ]
    }
   ],
   "source": [
    "for every_urlprofiles in urlprofiles2:\n",
    "    driver.execute_script(\"window.open('');\")\n",
    "    driver.switch_to.window(driver.window_handles[1])\n",
    "    driver.get(every_urlprofiles)\n",
    "\n",
    "    soup_level2=BeautifulSoup(driver.page_source, 'html.parser')\n",
    "    span = soup_level2.find(\"span\", id=\"username\")\n",
    "    span.text\n",
    "\n",
    "    fishtype = soup_level2.find(\"span\", id=\"fishtype\")\n",
    "    ethnicity = soup_level2.find(\"span\", id=\"ethnicity\")\n",
    "\n",
    "\n",
    "    driver.get(\"https://www.pof.com/sendmessage.aspx\")\n",
    "\n",
    "    element = driver.find_element_by_xpath('/html/body/div[1]/div[6]/form/div[2]/div/input')\n",
    "    element.click()\n",
    "    typewrite(span.text) \n",
    "\n",
    "    element = driver.find_element_by_xpath('/html/body/div[1]/div[6]/form/div[2]/textarea')\n",
    "    element.click()\n",
    "    typewrite(\"Hi \" + span.text + \n",
    "              \"  I liked your profile, your beautiful pics suggest me your work in arts or something related.\"\n",
    "              + \" Check out my profile and send me your match score with me. I like that you are \" +\n",
    "              fishtype.text + \". You get extra points for that.\"  ) \n",
    "\n",
    "    element = driver.find_element_by_xpath('/html/body/div[1]/div[6]/form/div[3]/div/input')\n",
    "    element.click()\n",
    "    time.sleep(3)\n",
    "\n",
    "    driver.close()\n",
    "    driver.switch_to.window(driver.window_handles[0])\n",
    "\n"
   ]
  },
  {
   "cell_type": "raw",
   "metadata": {},
   "source": []
  },
  {
   "cell_type": "markdown",
   "metadata": {},
   "source": [
    "##### "
   ]
  },
  {
   "cell_type": "raw",
   "metadata": {},
   "source": [
    "for every_urlprofiles in urlprofiles:\n",
    "        driver.execute_script(\"window.open('');\")\n",
    "        driver.switch_to.window(driver.window_handles[1])\n",
    "        driver.get(every_urlprofiles)\n",
    "\n",
    "        soup_level2=BeautifulSoup(driver.page_source, 'html.parser')\n",
    "        span = soup_level2.find(\"span\", id=\"username\")\n",
    "        span.text\n",
    "\n",
    "        fishtype = soup_level2.find(\"span\", id=\"fishtype\")\n",
    "        ethnicity = soup_level2.find(\"span\", id=\"ethnicity\")\n",
    "\n",
    "\n",
    "        driver.get(\"https://www.pof.com/sendmessage.aspx\")\n",
    "\n",
    "        mouse = Controller()\n",
    "        mouse.position = (250, 472)\n",
    "        mouse = Controller()\n",
    "        mouse.click(Button.left,1)\n",
    "\n",
    "        typewrite(span.text )\n",
    "\n",
    "        mouse = Controller()\n",
    "        mouse.position = (238, 539)\n",
    "        mouse = Controller()\n",
    "        mouse.click(Button.left,1)\n",
    "\n",
    "        typewrite(\"Hi \" + span.text + \n",
    "                  \"  ....  First of all I would wish you a successful 2019!!! .... \"\n",
    "                  \", I have messeged you earlier but saying hello again! I really liked your profile and hope we can converse! Looking forward! :) :) :) \"+ \n",
    "                  \" I liked the fact that you are \" +\n",
    "                  fishtype.text + \"......\" + \n",
    "                  \"Also my friends have told me that I have very good chemistry with \" +ethnicity.text + \" girls......\"+\n",
    "                  \"Regards and Best Wishes - Shivgan\")\n",
    " \n",
    "        # x:250 y:472 \n",
    "        # x:238 y:539 \n",
    "\n",
    "\n",
    "        element = driver.find_element_by_xpath(\"//*[@id='messageBottomWrapper']/div[@id='sendreply']/input[@class='button norm-green']\")\n",
    "        element.click()\n",
    "\n",
    "        driver.close()\n",
    "        driver.switch_to.window(driver.window_handles[0])\n",
    "\n",
    "\n",
    "\n"
   ]
  },
  {
   "cell_type": "code",
   "execution_count": null,
   "metadata": {},
   "outputs": [],
   "source": []
  },
  {
   "cell_type": "code",
   "execution_count": null,
   "metadata": {},
   "outputs": [],
   "source": []
  }
 ],
 "metadata": {
  "kernelspec": {
   "display_name": "Python [conda env:Anaconda3]",
   "language": "python",
   "name": "conda-env-Anaconda3-py"
  },
  "language_info": {
   "codemirror_mode": {
    "name": "ipython",
    "version": 3
   },
   "file_extension": ".py",
   "mimetype": "text/x-python",
   "name": "python",
   "nbconvert_exporter": "python",
   "pygments_lexer": "ipython3",
   "version": "3.6.4"
  }
 },
 "nbformat": 4,
 "nbformat_minor": 2
}
